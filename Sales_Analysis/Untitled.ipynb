{
 "cells": [
  {
   "cell_type": "code",
   "execution_count": null,
   "id": "7478480a",
   "metadata": {},
   "outputs": [],
   "source": [
    "import pandas as pd\n",
    "import os\n",
    "import glob\n",
    "\n",
    "for name in glob.glob(r'D:\\1_DATA\\Data Analysis Project\\Sales Analysis\\SalesAnalysis\\Sales_Data\\*.csv'):\n",
    "    print(name)\n",
    "\n",
    "all_files = glob.glob(r'D:\\1_DATA\\Data Analysis Project\\Sales Analysis\\SalesAnalysis\\Sales_Data\\*.csv')\n",
    "#all files will have a list of all the files available in the path\n",
    "#li=[]\n",
    "all_data=pd.DataFrame()\n",
    "\n",
    "for filename in all_files:\n",
    "    df=pd.read_csv(filename, index_col=None,header=0)\n",
    "    all_data=pd.concat([all_data,df])\n",
    "    #li.append(df)\n",
    "\n",
    "#print(li)\n",
    "\n",
    "#pd.concat --> concatinates all data in list\n",
    "#total=pd.concat(li, axis=0, ignore_index=True)\n",
    "#total.head()\n",
    "\n",
    "all_data.head()\n",
    "\n",
    "### Exporting the merged file as .csv file into the system\n",
    "\n",
    "all_data.to_csv(\"D:/1_DATA/Data Analysis Project/Sales Analysis/all_sales_data.csv\", index=False)"
   ]
  }
 ],
 "metadata": {
  "kernelspec": {
   "display_name": "Python 3 (ipykernel)",
   "language": "python",
   "name": "python3"
  },
  "language_info": {
   "codemirror_mode": {
    "name": "ipython",
    "version": 3
   },
   "file_extension": ".py",
   "mimetype": "text/x-python",
   "name": "python",
   "nbconvert_exporter": "python",
   "pygments_lexer": "ipython3",
   "version": "3.9.7"
  }
 },
 "nbformat": 4,
 "nbformat_minor": 5
}
